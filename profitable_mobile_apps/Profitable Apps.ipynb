{
 "cells": [
  {
   "cell_type": "markdown",
   "metadata": {},
   "source": [
    "# Profitable App Profiles for the App Store and Google Play Markets\n",
    "\n",
    "This is a learning excersize from [Data Analyst in Python - Dataquest course](https://www.dataquest.io/path/data-analyst/). In this excersize we are imagining we are a mobile app development company. Our aim is to help our developers understand what type of apps are likely to attract more users on Google Play and the App Store. Our tools for this is pure Python.\n",
    "\n",
    "## Data sources \n",
    "\n",
    "* [Google Play Store Apps](https://www.kaggle.com/lava18/google-play-store-apps)\n",
    "* [Apple iOS App Store](https://www.kaggle.com/lava18/google-play-store-apps)"
   ]
  },
  {
   "cell_type": "code",
   "execution_count": 1,
   "metadata": {},
   "outputs": [],
   "source": [
    "# row printer function\n",
    "\n",
    "def explore_data(dataset, start=0, end=5, rows_and_columns=False):\n",
    "    dataset_slice = dataset[start:end]    \n",
    "    for row in dataset_slice:\n",
    "        print(row)\n",
    "        print('\\n') # adds a new (empty) line after each row\n",
    "\n",
    "    if rows_and_columns:\n",
    "        print('Number of rows:', len(dataset) - 1)\n",
    "        print('Number of columns:', len(dataset[0]))\n",
    "        print('\\n')"
   ]
  },
  {
   "cell_type": "code",
   "execution_count": 2,
   "metadata": {},
   "outputs": [],
   "source": [
    "from csv import reader\n",
    "\n",
    "with open('googleplaystore.csv') as google_file, open('AppleStore.csv') as apple_file:\n",
    "    google_apps = list(reader(google_file))\n",
    "    apple_apps = list(reader(apple_file))"
   ]
  },
  {
   "cell_type": "code",
   "execution_count": 22,
   "metadata": {},
   "outputs": [
    {
     "name": "stdout",
     "output_type": "stream",
     "text": [
      "['App', 'Category', 'Rating', 'Reviews', 'Size', 'Installs', 'Type', 'Price', 'Content Rating', 'Genres', 'Last Updated', 'Current Ver', 'Android Ver']\n",
      "\n",
      "\n",
      "['Photo Editor & Candy Camera & Grid & ScrapBook', 'ART_AND_DESIGN', '4.1', '159', '19M', '10,000+', 'Free', '0', 'Everyone', 'Art & Design', 'January 7, 2018', '1.0.0', '4.0.3 and up']\n",
      "\n",
      "\n",
      "['Coloring book moana', 'ART_AND_DESIGN', '3.9', '967', '14M', '500,000+', 'Free', '0', 'Everyone', 'Art & Design;Pretend Play', 'January 15, 2018', '2.0.0', '4.0.3 and up']\n",
      "\n",
      "\n",
      "Number of rows: 10840\n",
      "Number of columns: 13\n",
      "\n",
      "\n",
      "['id', 'track_name', 'size_bytes', 'currency', 'price', 'rating_count_tot', 'rating_count_ver', 'user_rating', 'user_rating_ver', 'ver', 'cont_rating', 'prime_genre', 'sup_devices.num', 'ipadSc_urls.num', 'lang.num', 'vpp_lic']\n",
      "\n",
      "\n",
      "['284882215', 'Facebook', '389879808', 'USD', '0.0', '2974676', '212', '3.5', '3.5', '95.0', '4+', 'Social Networking', '37', '1', '29', '1']\n",
      "\n",
      "\n",
      "['389801252', 'Instagram', '113954816', 'USD', '0.0', '2161558', '1289', '4.5', '4.0', '10.23', '12+', 'Photo & Video', '37', '0', '29', '1']\n",
      "\n",
      "\n",
      "Number of rows: 7197\n",
      "Number of columns: 16\n",
      "\n",
      "\n"
     ]
    }
   ],
   "source": [
    "# read through data headers\n",
    "\n",
    "explore_data(google_apps, end=3, rows_and_columns=True)\n",
    "explore_data(apple_apps, end=3, rows_and_columns=True)"
   ]
  },
  {
   "cell_type": "markdown",
   "metadata": {},
   "source": [
    "## Data cleaning\n",
    "\n",
    "At our company, we only build apps that are free to download and install, and that are directed toward an English-speaking audience. \n",
    "\n",
    "Tasks for cleaning:\n",
    "\n",
    "- [x] find errors in data (delete if any), e.g. there is a [reported error](https://www.kaggle.com/lava18/google-play-store-apps/discussion/66015)\n",
    "- [x] remove non-English apps\n",
    "- [x] remove non-free apps"
   ]
  },
  {
   "cell_type": "code",
   "execution_count": 4,
   "metadata": {},
   "outputs": [],
   "source": [
    "# finding rows with errors\n",
    "\n",
    "# \"this entry has missing 'Rating' and a column shift happened for next columns..\"\n",
    "# 10472 Life Made WI-Fi Touchscreen Photo Frame 1.9 19.0 3.0M 1,000+ Free 0 Everyone NaN February 11, 2018 1.0.19 4.0 and up NaN\n",
    "\n",
    "reported_error_index = 10472\n",
    "explore_data(google_apps, 10473, 10474)"
   ]
  },
  {
   "cell_type": "code",
   "execution_count": 5,
   "metadata": {},
   "outputs": [],
   "source": [
    "del google_apps[10473]"
   ]
  },
  {
   "cell_type": "markdown",
   "metadata": {},
   "source": [
    "### Duplicates\n",
    "\n",
    "There is also [another report for iOS apps](https://www.kaggle.com/ramamet4/app-store-apple-data-set-10k-apps/discussion/90409) which says that apps named \"Mannequin Challenge\" and \"VR Roller Coaster\" appear 2 times in the dataset. Although the names do appear two times each, the values in columns `id`, `size_in_bytes` and `rating_count` are so different that it's probably just 2 different apps with the same name. Also [doing a search in the App Store page](https://www.apple.com/us/search/Mannequin-Challenge?src=globalnav) gives a lots of results by this name.\n",
    "\n",
    "Some duplicates are indeed found in Google Apps dataset:"
   ]
  },
  {
   "cell_type": "code",
   "execution_count": 6,
   "metadata": {},
   "outputs": [
    {
     "name": "stdout",
     "output_type": "stream",
     "text": [
      "Number of duplicate apps: 1181\n",
      "Examples: ['Quick PDF Scanner + OCR FREE', 'Box', 'Google My Business', 'ZOOM Cloud Meetings', 'join.me - Simple Meetings', 'Box', 'Zenefits', 'Google Ads', 'Google My Business', 'Slack', 'FreshBooks Classic', 'Insightly CRM', 'QuickBooks Accounting: Invoicing & Expenses', 'HipChat - Chat Built for Teams', 'Xero Accounting Software']\n"
     ]
    }
   ],
   "source": [
    "# Find the number of duplicate android apps\n",
    "\n",
    "unique_apps = []\n",
    "duplicate_apps = []\n",
    "\n",
    "for row in google_apps[1:]:\n",
    "    app_name = row[0]\n",
    "    if app_name in unique_apps:\n",
    "        duplicate_apps.append(app_name)\n",
    "    else:\n",
    "        unique_apps.append(app_name)\n",
    "\n",
    "print(\"Number of duplicate apps:\", len(duplicate_apps))\n",
    "print(\"Examples:\", duplicate_apps[:15])"
   ]
  },
  {
   "cell_type": "code",
   "execution_count": 7,
   "metadata": {},
   "outputs": [
    {
     "data": {
      "text/plain": [
       "798"
      ]
     },
     "execution_count": 7,
     "metadata": {},
     "output_type": "execute_result"
    }
   ],
   "source": [
    "# Finding how many unique names there are in duplicates\n",
    "\n",
    "unique_duplicate_names = set(duplicate_apps)\n",
    "len(unique_duplicate_names)"
   ]
  },
  {
   "cell_type": "code",
   "execution_count": 8,
   "metadata": {},
   "outputs": [],
   "source": [
    "# Since 798 < 1181, some apps have not only duplicates but triplicates, etc\n",
    "# Let's find the most frequent duplicates\n",
    "\n",
    "frequency = {}\n",
    "\n",
    "for app in duplicate_apps:\n",
    "    if app in frequency:\n",
    "        frequency[app] += 1\n",
    "    else:\n",
    "        frequency[app] = 1\n",
    "        \n",
    "max_count = 0\n",
    "most_frequent_app = ''\n",
    "for app, count in frequency.items():\n",
    "    if count > max_count:\n",
    "        max_count = count\n",
    "        most_frequent_app = app"
   ]
  },
  {
   "cell_type": "code",
   "execution_count": 9,
   "metadata": {},
   "outputs": [
    {
     "name": "stdout",
     "output_type": "stream",
     "text": [
      "['App', 'Category', 'Rating', 'Reviews', 'Size', 'Installs', 'Type', 'Price', 'Content Rating', 'Genres', 'Last Updated', 'Current Ver', 'Android Ver']\n",
      "1654 \t ['ROBLOX', 'GAME', '4.5', '4447388', '67M', '100,000,000+', 'Free', '0', 'Everyone 10+', 'Adventure;Action & Adventure', 'July 31, 2018', '2.347.225742', '4.1 and up']\n",
      "1702 \t ['ROBLOX', 'GAME', '4.5', '4447346', '67M', '100,000,000+', 'Free', '0', 'Everyone 10+', 'Adventure;Action & Adventure', 'July 31, 2018', '2.347.225742', '4.1 and up']\n",
      "1749 \t ['ROBLOX', 'GAME', '4.5', '4448791', '67M', '100,000,000+', 'Free', '0', 'Everyone 10+', 'Adventure;Action & Adventure', 'July 31, 2018', '2.347.225742', '4.1 and up']\n",
      "1842 \t ['ROBLOX', 'GAME', '4.5', '4449882', '67M', '100,000,000+', 'Free', '0', 'Everyone 10+', 'Adventure;Action & Adventure', 'July 31, 2018', '2.347.225742', '4.1 and up']\n",
      "1871 \t ['ROBLOX', 'GAME', '4.5', '4449910', '67M', '100,000,000+', 'Free', '0', 'Everyone 10+', 'Adventure;Action & Adventure', 'July 31, 2018', '2.347.225742', '4.1 and up']\n",
      "2017 \t ['ROBLOX', 'FAMILY', '4.5', '4449910', '67M', '100,000,000+', 'Free', '0', 'Everyone 10+', 'Adventure;Action & Adventure', 'July 31, 2018', '2.347.225742', '4.1 and up']\n",
      "2089 \t ['ROBLOX', 'FAMILY', '4.5', '4450855', '67M', '100,000,000+', 'Free', '0', 'Everyone 10+', 'Adventure;Action & Adventure', 'July 31, 2018', '2.347.225742', '4.1 and up']\n",
      "2207 \t ['ROBLOX', 'FAMILY', '4.5', '4450890', '67M', '100,000,000+', 'Free', '0', 'Everyone 10+', 'Adventure;Action & Adventure', 'July 31, 2018', '2.347.225742', '4.1 and up']\n",
      "4528 \t ['ROBLOX', 'FAMILY', '4.5', '4443407', '67M', '100,000,000+', 'Free', '0', 'Everyone 10+', 'Adventure;Action & Adventure', 'July 31, 2018', '2.347.225742', '4.1 and up']\n"
     ]
    }
   ],
   "source": [
    "# Inspecting the most frequent app\n",
    "\n",
    "print(google_apps[0])\n",
    "\n",
    "for row_index, row in enumerate(google_apps):\n",
    "    if row[0] == most_frequent_app:\n",
    "        print(row_index,'\\t', row)"
   ]
  },
  {
   "cell_type": "markdown",
   "metadata": {},
   "source": [
    "Inspecting the rows of the duplicate we can notice that the only thing that really changes is 'Reviews' - which stores the number of total reviews. Since it can only grow with time, the most reasonable way to delete the duplicates would be to remove the old rows (i.e. keeping only rows with the highest number of reviews). To check if we remove rows correctly, calculate the expected number of rows that should be left:"
   ]
  },
  {
   "cell_type": "code",
   "execution_count": 10,
   "metadata": {},
   "outputs": [
    {
     "name": "stdout",
     "output_type": "stream",
     "text": [
      "Expected number of rows: 9659\n"
     ]
    }
   ],
   "source": [
    "expected_row_count = len(google_apps[1:]) - len(duplicate_apps)\n",
    "print(\"Expected number of rows:\", expected_row_count)"
   ]
  },
  {
   "cell_type": "code",
   "execution_count": 11,
   "metadata": {},
   "outputs": [],
   "source": [
    "# map app to the max review count\n",
    "\n",
    "review_counts = {}\n",
    "\n",
    "for row in google_apps[1:]:\n",
    "    app_name = row[0]\n",
    "    current_count = int(row[3])\n",
    "    if app_name in review_counts:\n",
    "        if current_count > review_counts[app_name]:\n",
    "            review_counts[app_name] = current_count\n",
    "    else:\n",
    "        review_counts[app_name] = current_count"
   ]
  },
  {
   "cell_type": "code",
   "execution_count": 12,
   "metadata": {},
   "outputs": [],
   "source": [
    "# not include the rows where review count for a given app is lower than max\n",
    "# note some rows are duplicates with same max reviews, thus keeiping track of already inserted apps\n",
    "\n",
    "already_inserted = set()\n",
    "google_apps_clean = google_apps[:1]\n",
    "\n",
    "for row in google_apps[1:]:\n",
    "    app_name = row[0]\n",
    "    current_review_count = int(row[3])\n",
    "    if (app_name not in already_inserted) and (current_review_count == review_counts[app_name]):\n",
    "        google_apps_clean.append(row)\n",
    "        already_inserted.add(app_name)"
   ]
  },
  {
   "cell_type": "code",
   "execution_count": 13,
   "metadata": {},
   "outputs": [
    {
     "data": {
      "text/plain": [
       "True"
      ]
     },
     "execution_count": 13,
     "metadata": {},
     "output_type": "execute_result"
    }
   ],
   "source": [
    "# check that we get the expected number of rows\n",
    "\n",
    "expected_row_count == len(google_apps_clean[1:])"
   ]
  },
  {
   "cell_type": "code",
   "execution_count": 28,
   "metadata": {},
   "outputs": [],
   "source": [
    "google_apps = google_apps_clean"
   ]
  },
  {
   "cell_type": "markdown",
   "metadata": {},
   "source": [
    "### English locale\n",
    "\n",
    "The easiest way to remove non-English apps is to look for non ascii symbols in the app names."
   ]
  },
  {
   "cell_type": "code",
   "execution_count": 17,
   "metadata": {},
   "outputs": [
    {
     "ename": "AssertionError",
     "evalue": "",
     "output_type": "error",
     "traceback": [
      "\u001b[0;31m---------------------------------------------------------------------------\u001b[0m",
      "\u001b[0;31mAssertionError\u001b[0m                            Traceback (most recent call last)",
      "\u001b[0;32m<ipython-input-17-b7639abf9f0c>\u001b[0m in \u001b[0;36m<module>\u001b[0;34m\u001b[0m\n\u001b[1;32m      7\u001b[0m \u001b[0;32massert\u001b[0m \u001b[0mis_ascii\u001b[0m\u001b[0;34m(\u001b[0m\u001b[0;34m'Instagram'\u001b[0m\u001b[0;34m)\u001b[0m\u001b[0;34m\u001b[0m\u001b[0;34m\u001b[0m\u001b[0m\n\u001b[1;32m      8\u001b[0m \u001b[0;32massert\u001b[0m \u001b[0;32mnot\u001b[0m \u001b[0mis_ascii\u001b[0m\u001b[0;34m(\u001b[0m\u001b[0;34m'爱奇艺PPS -《欢乐颂2》电视剧热播'\u001b[0m\u001b[0;34m)\u001b[0m\u001b[0;34m\u001b[0m\u001b[0;34m\u001b[0m\u001b[0m\n\u001b[0;32m----> 9\u001b[0;31m \u001b[0;32massert\u001b[0m \u001b[0mis_ascii\u001b[0m\u001b[0;34m(\u001b[0m\u001b[0;34m'Docs To Go™ Free Office Suite'\u001b[0m\u001b[0;34m)\u001b[0m\u001b[0;34m\u001b[0m\u001b[0;34m\u001b[0m\u001b[0m\n\u001b[0m\u001b[1;32m     10\u001b[0m \u001b[0;32massert\u001b[0m \u001b[0mis_ascii\u001b[0m\u001b[0;34m(\u001b[0m\u001b[0;34m'Instachat 😜'\u001b[0m\u001b[0;34m)\u001b[0m\u001b[0;34m\u001b[0m\u001b[0;34m\u001b[0m\u001b[0m\n",
      "\u001b[0;31mAssertionError\u001b[0m: "
     ]
    }
   ],
   "source": [
    "def is_ascii(a_string):\n",
    "    for character in a_string:\n",
    "        if ord(character) > 127:\n",
    "            return False\n",
    "    return True\n",
    "\n",
    "assert is_ascii('Instagram')\n",
    "assert not is_ascii('爱奇艺PPS -《欢乐颂2》电视剧热播')\n",
    "assert is_ascii('Docs To Go™ Free Office Suite')\n",
    "assert is_ascii('Instachat 😜')"
   ]
  },
  {
   "cell_type": "markdown",
   "metadata": {},
   "source": [
    "As shown in the tests above just judging by ascii is not good enough - many useful entries that contain non-ascii characters are actually English. To include those we can use a slightly better approach - mark as non-English only those strings containing at least 3 non-ascii characters in a row."
   ]
  },
  {
   "cell_type": "code",
   "execution_count": 21,
   "metadata": {},
   "outputs": [],
   "source": [
    "def is_eng(a_string):\n",
    "    \n",
    "    if len(a_string) < 3:\n",
    "        return True\n",
    "    \n",
    "    for index, character in enumerate(a_string):\n",
    "        # skip first and last indexes to avoid out of bound errors\n",
    "        if (index == 0) or (index == len(a_string) - 1):\n",
    "            continue\n",
    "        if (ord(a_string[index - 1]) > 127) and (ord(character) > 127) and (ord(a_string[index + 1]) > 127):\n",
    "            return False\n",
    "        \n",
    "    return True\n",
    "\n",
    "assert is_eng('Instagram')\n",
    "assert not is_eng('爱奇艺PPS -《欢乐颂2》电视剧热播')\n",
    "assert is_eng('Docs To Go™ Free Office Suite')\n",
    "assert is_eng('Instachat 😜')"
   ]
  },
  {
   "cell_type": "code",
   "execution_count": 37,
   "metadata": {},
   "outputs": [
    {
     "name": "stdout",
     "output_type": "stream",
     "text": [
      "9615\n",
      "[['Photo Editor & Candy Camera & Grid & ScrapBook', 'ART_AND_DESIGN', '4.1', '159', '19M', '10,000+', 'Free', '0', 'Everyone', 'Art & Design', 'January 7, 2018', '1.0.0', '4.0.3 and up'], ['U Launcher Lite – FREE Live Cool Themes, Hide Apps', 'ART_AND_DESIGN', '4.7', '87510', '8.7M', '5,000,000+', 'Free', '0', 'Everyone', 'Art & Design', 'August 1, 2018', '1.2.4', '4.0.3 and up'], ['Sketch - Draw & Paint', 'ART_AND_DESIGN', '4.5', '215644', '25M', '50,000,000+', 'Free', '0', 'Teen', 'Art & Design', 'June 8, 2018', 'Varies with device', '4.2 and up']]\n"
     ]
    }
   ],
   "source": [
    "# English Android Apps\n",
    "\n",
    "en_google_apps = [app for app in google_apps[1:] if is_eng(app[0])]\n",
    "print(len(en_google_apps))\n",
    "print(en_google_apps[:3])"
   ]
  },
  {
   "cell_type": "code",
   "execution_count": 38,
   "metadata": {},
   "outputs": [
    {
     "name": "stdout",
     "output_type": "stream",
     "text": [
      "6167\n",
      "[['284882215', 'Facebook', '389879808', 'USD', '0.0', '2974676', '212', '3.5', '3.5', '95.0', '4+', 'Social Networking', '37', '1', '29', '1'], ['389801252', 'Instagram', '113954816', 'USD', '0.0', '2161558', '1289', '4.5', '4.0', '10.23', '12+', 'Photo & Video', '37', '0', '29', '1'], ['529479190', 'Clash of Clans', '116476928', 'USD', '0.0', '2130805', '579', '4.5', '4.5', '9.24.12', '9+', 'Games', '38', '5', '18', '1']]\n"
     ]
    }
   ],
   "source": [
    "# English iOS Apps\n",
    "\n",
    "en_apple_apps = [app for app in apple_apps[1:] if is_eng(app[1])]\n",
    "print(len(en_apple_apps))\n",
    "print(en_apple_apps[:3])"
   ]
  },
  {
   "cell_type": "markdown",
   "metadata": {},
   "source": [
    "### Free Apps Only"
   ]
  },
  {
   "cell_type": "code",
   "execution_count": 39,
   "metadata": {},
   "outputs": [
    {
     "data": {
      "text/plain": [
       "{'$', '0'}"
      ]
     },
     "execution_count": 39,
     "metadata": {},
     "output_type": "execute_result"
    }
   ],
   "source": [
    "# For Android apps 'Price' column has index 7 but it also contains $ symbol\n",
    "# find out if all rows contain the $ prefix\n",
    "set([row[7][0] for row in en_google_apps])"
   ]
  },
  {
   "cell_type": "code",
   "execution_count": 46,
   "metadata": {},
   "outputs": [],
   "source": [
    "def price_to_float(a_strng):\n",
    "    if '$' in a_strng:\n",
    "        return float(a_strng[1:])\n",
    "    else:\n",
    "        return float(a_strng)"
   ]
  },
  {
   "cell_type": "code",
   "execution_count": 47,
   "metadata": {},
   "outputs": [
    {
     "data": {
      "text/plain": [
       "8865"
      ]
     },
     "execution_count": 47,
     "metadata": {},
     "output_type": "execute_result"
    }
   ],
   "source": [
    "# we can simply omit the first simble when converting to float\n",
    "google_apps_clean = [app for app in en_google_apps if price_to_float(app[7]) == 0.0]\n",
    "len(google_apps_clean)"
   ]
  },
  {
   "cell_type": "code",
   "execution_count": 41,
   "metadata": {},
   "outputs": [
    {
     "data": {
      "text/plain": [
       "{'0', '1', '2', '3', '4', '5', '6', '7', '8', '9'}"
      ]
     },
     "execution_count": 41,
     "metadata": {},
     "output_type": "execute_result"
    }
   ],
   "source": [
    "# 'price' column has index 4\n",
    "# check if it has only floats\n",
    "\n",
    "set([row[4][0] for row in en_apple_apps])"
   ]
  },
  {
   "cell_type": "code",
   "execution_count": 50,
   "metadata": {},
   "outputs": [
    {
     "data": {
      "text/plain": [
       "3208"
      ]
     },
     "execution_count": 50,
     "metadata": {},
     "output_type": "execute_result"
    }
   ],
   "source": [
    "apple_apps_clean = [app for app in en_apple_apps if float(app[4]) == 0.0]\n",
    "len(apple_apps_clean)"
   ]
  },
  {
   "cell_type": "code",
   "execution_count": 51,
   "metadata": {},
   "outputs": [],
   "source": [
    "google_app_columns = google_apps[0]\n",
    "apple_app_columns = apple_apps[0]"
   ]
  },
  {
   "cell_type": "markdown",
   "metadata": {},
   "source": [
    "### Data cleaning results\n",
    "\n",
    "* `google_app_columns` - list with android app column names\n",
    "* `google_apps_clean` - list of lists with clean adroid apps data set\n",
    "* `apple_app_columns` - list with iOS app column namex\n",
    "* `apple_apps_clean` - list of lists with clean iOS apps data set"
   ]
  }
 ],
 "metadata": {
  "kernelspec": {
   "display_name": "Python 3",
   "language": "python",
   "name": "python3"
  },
  "language_info": {
   "codemirror_mode": {
    "name": "ipython",
    "version": 3
   },
   "file_extension": ".py",
   "mimetype": "text/x-python",
   "name": "python",
   "nbconvert_exporter": "python",
   "pygments_lexer": "ipython3",
   "version": "3.8.6"
  }
 },
 "nbformat": 4,
 "nbformat_minor": 4
}
