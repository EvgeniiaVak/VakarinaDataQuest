{
 "cells": [
  {
   "cell_type": "markdown",
   "metadata": {},
   "source": [
    "# Profitable App Profiles for the App Store and Google Play Markets\n",
    "\n",
    "This is a learning excersize from [Data Analyst in Python - Dataquest course](https://www.dataquest.io/path/data-analyst/). In this excersize we are imagining we are a mobile app development company. Our aim is to help our developers understand what type of apps are likely to attract more users on Google Play and the App Store. Our tools for this is pure Python.\n",
    "\n",
    "## Data sources \n",
    "\n",
    "* [Google Play Store Apps](https://www.kaggle.com/lava18/google-play-store-apps)\n",
    "* [Apple iOS App Store](https://www.kaggle.com/ramamet4/app-store-apple-data-set-10k-apps)"
   ]
  },
  {
   "cell_type": "code",
   "execution_count": 1,
   "metadata": {},
   "outputs": [],
   "source": [
    "# row printer function\n",
    "\n",
    "def explore_data(dataset, start=0, end=5, rows_and_columns=False):\n",
    "    dataset_slice = dataset[start:end]    \n",
    "    for row in dataset_slice:\n",
    "        print(row)\n",
    "        print('\\n') # adds a new (empty) line after each row\n",
    "\n",
    "    if rows_and_columns:\n",
    "        print('Number of rows:', len(dataset) - 1)\n",
    "        print('Number of columns:', len(dataset[0]))\n",
    "        print('\\n')"
   ]
  },
  {
   "cell_type": "code",
   "execution_count": 2,
   "metadata": {},
   "outputs": [],
   "source": [
    "from csv import reader\n",
    "\n",
    "with open('googleplaystore.csv') as google_file, open('AppleStore.csv') as apple_file:\n",
    "    google_apps = list(reader(google_file))\n",
    "    apple_apps = list(reader(apple_file))"
   ]
  },
  {
   "cell_type": "code",
   "execution_count": 3,
   "metadata": {},
   "outputs": [
    {
     "name": "stdout",
     "output_type": "stream",
     "text": [
      "['App', 'Category', 'Rating', 'Reviews', 'Size', 'Installs', 'Type', 'Price', 'Content Rating', 'Genres', 'Last Updated', 'Current Ver', 'Android Ver']\n",
      "\n",
      "\n",
      "['Photo Editor & Candy Camera & Grid & ScrapBook', 'ART_AND_DESIGN', '4.1', '159', '19M', '10,000+', 'Free', '0', 'Everyone', 'Art & Design', 'January 7, 2018', '1.0.0', '4.0.3 and up']\n",
      "\n",
      "\n",
      "['Coloring book moana', 'ART_AND_DESIGN', '3.9', '967', '14M', '500,000+', 'Free', '0', 'Everyone', 'Art & Design;Pretend Play', 'January 15, 2018', '2.0.0', '4.0.3 and up']\n",
      "\n",
      "\n",
      "Number of rows: 10841\n",
      "Number of columns: 13\n",
      "\n",
      "\n",
      "['id', 'track_name', 'size_bytes', 'currency', 'price', 'rating_count_tot', 'rating_count_ver', 'user_rating', 'user_rating_ver', 'ver', 'cont_rating', 'prime_genre', 'sup_devices.num', 'ipadSc_urls.num', 'lang.num', 'vpp_lic']\n",
      "\n",
      "\n",
      "['284882215', 'Facebook', '389879808', 'USD', '0.0', '2974676', '212', '3.5', '3.5', '95.0', '4+', 'Social Networking', '37', '1', '29', '1']\n",
      "\n",
      "\n",
      "['389801252', 'Instagram', '113954816', 'USD', '0.0', '2161558', '1289', '4.5', '4.0', '10.23', '12+', 'Photo & Video', '37', '0', '29', '1']\n",
      "\n",
      "\n",
      "Number of rows: 7197\n",
      "Number of columns: 16\n",
      "\n",
      "\n"
     ]
    }
   ],
   "source": [
    "# read through data headers\n",
    "\n",
    "explore_data(google_apps, end=3, rows_and_columns=True)\n",
    "explore_data(apple_apps, end=3, rows_and_columns=True)"
   ]
  },
  {
   "cell_type": "markdown",
   "metadata": {},
   "source": [
    "## Data cleaning\n",
    "\n",
    "At our company, we only build apps that are free to download and install, and that are directed toward an English-speaking audience. \n",
    "\n",
    "Tasks for cleaning:\n",
    "\n",
    "- [x] find errors in data (delete if any), e.g. there is a [reported error](https://www.kaggle.com/lava18/google-play-store-apps/discussion/66015)\n",
    "- [x] remove non-English apps\n",
    "- [x] remove non-free apps"
   ]
  },
  {
   "cell_type": "code",
   "execution_count": 4,
   "metadata": {},
   "outputs": [
    {
     "name": "stdout",
     "output_type": "stream",
     "text": [
      "['Life Made WI-Fi Touchscreen Photo Frame', '1.9', '19', '3.0M', '1,000+', 'Free', '0', 'Everyone', '', 'February 11, 2018', '1.0.19', '4.0 and up']\n",
      "\n",
      "\n"
     ]
    }
   ],
   "source": [
    "# finding rows with errors\n",
    "\n",
    "# \"this entry has missing 'Rating' and a column shift happened for next columns..\"\n",
    "# 10472 Life Made WI-Fi Touchscreen Photo Frame 1.9 19.0 3.0M 1,000+ Free 0 Everyone NaN February 11, 2018 1.0.19 4.0 and up NaN\n",
    "\n",
    "reported_error_index = 10472\n",
    "explore_data(google_apps, 10473, 10474)"
   ]
  },
  {
   "cell_type": "code",
   "execution_count": 5,
   "metadata": {},
   "outputs": [],
   "source": [
    "del google_apps[10473]"
   ]
  },
  {
   "cell_type": "markdown",
   "metadata": {},
   "source": [
    "### Duplicates\n",
    "\n",
    "There is also [another report for iOS apps](https://www.kaggle.com/ramamet4/app-store-apple-data-set-10k-apps/discussion/90409) which says that apps named \"Mannequin Challenge\" and \"VR Roller Coaster\" appear 2 times in the dataset. Although the names do appear two times each, the values in columns `id`, `size_in_bytes` and `rating_count` are so different that it's probably just 2 different apps with the same name. Also [doing a search in the App Store page](https://www.apple.com/us/search/Mannequin-Challenge?src=globalnav) gives a lots of results by this name.\n",
    "\n",
    "Some duplicates are indeed found in Google Apps dataset:"
   ]
  },
  {
   "cell_type": "code",
   "execution_count": 6,
   "metadata": {},
   "outputs": [
    {
     "name": "stdout",
     "output_type": "stream",
     "text": [
      "Number of duplicate apps: 1181\n",
      "Examples: ['Quick PDF Scanner + OCR FREE', 'Box', 'Google My Business', 'ZOOM Cloud Meetings', 'join.me - Simple Meetings', 'Box', 'Zenefits', 'Google Ads', 'Google My Business', 'Slack', 'FreshBooks Classic', 'Insightly CRM', 'QuickBooks Accounting: Invoicing & Expenses', 'HipChat - Chat Built for Teams', 'Xero Accounting Software']\n"
     ]
    }
   ],
   "source": [
    "# Find the number of duplicate android apps\n",
    "\n",
    "unique_apps = []\n",
    "duplicate_apps = []\n",
    "\n",
    "for row in google_apps[1:]:\n",
    "    app_name = row[0]\n",
    "    if app_name in unique_apps:\n",
    "        duplicate_apps.append(app_name)\n",
    "    else:\n",
    "        unique_apps.append(app_name)\n",
    "\n",
    "print(\"Number of duplicate apps:\", len(duplicate_apps))\n",
    "print(\"Examples:\", duplicate_apps[:15])"
   ]
  },
  {
   "cell_type": "code",
   "execution_count": 7,
   "metadata": {},
   "outputs": [
    {
     "data": {
      "text/plain": [
       "798"
      ]
     },
     "execution_count": 7,
     "metadata": {},
     "output_type": "execute_result"
    }
   ],
   "source": [
    "# Finding how many unique names there are in duplicates\n",
    "\n",
    "unique_duplicate_names = set(duplicate_apps)\n",
    "len(unique_duplicate_names)"
   ]
  },
  {
   "cell_type": "code",
   "execution_count": 8,
   "metadata": {},
   "outputs": [],
   "source": [
    "# Since 798 < 1181, some apps have not only duplicates but triplicates, etc\n",
    "# Let's find the most frequent duplicates\n",
    "\n",
    "frequency = {}\n",
    "\n",
    "for app in duplicate_apps:\n",
    "    if app in frequency:\n",
    "        frequency[app] += 1\n",
    "    else:\n",
    "        frequency[app] = 1\n",
    "        \n",
    "max_count = 0\n",
    "most_frequent_app = ''\n",
    "for app, count in frequency.items():\n",
    "    if count > max_count:\n",
    "        max_count = count\n",
    "        most_frequent_app = app"
   ]
  },
  {
   "cell_type": "code",
   "execution_count": 9,
   "metadata": {},
   "outputs": [
    {
     "name": "stdout",
     "output_type": "stream",
     "text": [
      "['App', 'Category', 'Rating', 'Reviews', 'Size', 'Installs', 'Type', 'Price', 'Content Rating', 'Genres', 'Last Updated', 'Current Ver', 'Android Ver']\n",
      "1654 \t ['ROBLOX', 'GAME', '4.5', '4447388', '67M', '100,000,000+', 'Free', '0', 'Everyone 10+', 'Adventure;Action & Adventure', 'July 31, 2018', '2.347.225742', '4.1 and up']\n",
      "1702 \t ['ROBLOX', 'GAME', '4.5', '4447346', '67M', '100,000,000+', 'Free', '0', 'Everyone 10+', 'Adventure;Action & Adventure', 'July 31, 2018', '2.347.225742', '4.1 and up']\n",
      "1749 \t ['ROBLOX', 'GAME', '4.5', '4448791', '67M', '100,000,000+', 'Free', '0', 'Everyone 10+', 'Adventure;Action & Adventure', 'July 31, 2018', '2.347.225742', '4.1 and up']\n",
      "1842 \t ['ROBLOX', 'GAME', '4.5', '4449882', '67M', '100,000,000+', 'Free', '0', 'Everyone 10+', 'Adventure;Action & Adventure', 'July 31, 2018', '2.347.225742', '4.1 and up']\n",
      "1871 \t ['ROBLOX', 'GAME', '4.5', '4449910', '67M', '100,000,000+', 'Free', '0', 'Everyone 10+', 'Adventure;Action & Adventure', 'July 31, 2018', '2.347.225742', '4.1 and up']\n",
      "2017 \t ['ROBLOX', 'FAMILY', '4.5', '4449910', '67M', '100,000,000+', 'Free', '0', 'Everyone 10+', 'Adventure;Action & Adventure', 'July 31, 2018', '2.347.225742', '4.1 and up']\n",
      "2089 \t ['ROBLOX', 'FAMILY', '4.5', '4450855', '67M', '100,000,000+', 'Free', '0', 'Everyone 10+', 'Adventure;Action & Adventure', 'July 31, 2018', '2.347.225742', '4.1 and up']\n",
      "2207 \t ['ROBLOX', 'FAMILY', '4.5', '4450890', '67M', '100,000,000+', 'Free', '0', 'Everyone 10+', 'Adventure;Action & Adventure', 'July 31, 2018', '2.347.225742', '4.1 and up']\n",
      "4528 \t ['ROBLOX', 'FAMILY', '4.5', '4443407', '67M', '100,000,000+', 'Free', '0', 'Everyone 10+', 'Adventure;Action & Adventure', 'July 31, 2018', '2.347.225742', '4.1 and up']\n"
     ]
    }
   ],
   "source": [
    "# Inspecting the most frequent app\n",
    "\n",
    "print(google_apps[0])\n",
    "\n",
    "for row_index, row in enumerate(google_apps):\n",
    "    if row[0] == most_frequent_app:\n",
    "        print(row_index,'\\t', row)"
   ]
  },
  {
   "cell_type": "markdown",
   "metadata": {},
   "source": [
    "Inspecting the rows of the duplicate we can notice that the only thing that really changes is 'Reviews' - which stores the number of total reviews. Since it can only grow with time, the most reasonable way to delete the duplicates would be to remove the old rows (i.e. keeping only rows with the highest number of reviews). To check if we remove rows correctly, calculate the expected number of rows that should be left:"
   ]
  },
  {
   "cell_type": "code",
   "execution_count": 10,
   "metadata": {},
   "outputs": [
    {
     "name": "stdout",
     "output_type": "stream",
     "text": [
      "Expected number of rows: 9659\n"
     ]
    }
   ],
   "source": [
    "expected_row_count = len(google_apps[1:]) - len(duplicate_apps)\n",
    "print(\"Expected number of rows:\", expected_row_count)"
   ]
  },
  {
   "cell_type": "code",
   "execution_count": 11,
   "metadata": {},
   "outputs": [],
   "source": [
    "# map app to the max review count\n",
    "\n",
    "review_counts = {}\n",
    "\n",
    "for row in google_apps[1:]:\n",
    "    app_name = row[0]\n",
    "    current_count = int(row[3])\n",
    "    if app_name in review_counts:\n",
    "        if current_count > review_counts[app_name]:\n",
    "            review_counts[app_name] = current_count\n",
    "    else:\n",
    "        review_counts[app_name] = current_count"
   ]
  },
  {
   "cell_type": "code",
   "execution_count": 12,
   "metadata": {},
   "outputs": [],
   "source": [
    "# not include the rows where review count for a given app is lower than max\n",
    "# note some rows are duplicates with same max reviews, thus keeiping track of already inserted apps\n",
    "\n",
    "already_inserted = set()\n",
    "google_apps_clean = google_apps[:1]\n",
    "\n",
    "for row in google_apps[1:]:\n",
    "    app_name = row[0]\n",
    "    current_review_count = int(row[3])\n",
    "    if (app_name not in already_inserted) and (current_review_count == review_counts[app_name]):\n",
    "        google_apps_clean.append(row)\n",
    "        already_inserted.add(app_name)"
   ]
  },
  {
   "cell_type": "code",
   "execution_count": 13,
   "metadata": {},
   "outputs": [
    {
     "data": {
      "text/plain": [
       "True"
      ]
     },
     "execution_count": 13,
     "metadata": {},
     "output_type": "execute_result"
    }
   ],
   "source": [
    "# check that we get the expected number of rows\n",
    "\n",
    "expected_row_count == len(google_apps_clean[1:])"
   ]
  },
  {
   "cell_type": "code",
   "execution_count": 14,
   "metadata": {},
   "outputs": [],
   "source": [
    "google_apps = google_apps_clean"
   ]
  },
  {
   "cell_type": "markdown",
   "metadata": {},
   "source": [
    "### English locale\n",
    "\n",
    "The easiest way to remove non-English apps is to look for non ascii symbols in the app names."
   ]
  },
  {
   "cell_type": "code",
   "execution_count": 15,
   "metadata": {},
   "outputs": [],
   "source": [
    "def is_ascii(a_string):\n",
    "    for character in a_string:\n",
    "        if ord(character) > 127:\n",
    "            return False\n",
    "    return True\n",
    "\n",
    "assert is_ascii('Instagram')\n",
    "assert not is_ascii('爱奇艺PPS -《欢乐颂2》电视剧热播')\n",
    "\n",
    "# but also notice that those two strings are non-ascii too\n",
    "assert not is_ascii('Docs To Go™ Free Office Suite')\n",
    "assert not is_ascii('Instachat 😜')"
   ]
  },
  {
   "cell_type": "markdown",
   "metadata": {},
   "source": [
    "As shown in the tests above just judging by ascii is not good enough - many useful entries that contain non-ascii characters are actually English. To include those we can use a slightly better approach - mark as non-English only those strings containing at least 3 non-ascii characters in a row."
   ]
  },
  {
   "cell_type": "code",
   "execution_count": 16,
   "metadata": {},
   "outputs": [],
   "source": [
    "def is_eng(a_string):\n",
    "    \n",
    "    if len(a_string) < 3:\n",
    "        return True\n",
    "    \n",
    "    for index, character in enumerate(a_string):\n",
    "        # skip first and last indexes to avoid out of bound errors\n",
    "        if (index == 0) or (index == len(a_string) - 1):\n",
    "            continue\n",
    "        if (ord(a_string[index - 1]) > 127) and (ord(character) > 127) and (ord(a_string[index + 1]) > 127):\n",
    "            return False\n",
    "        \n",
    "    return True\n",
    "\n",
    "assert is_eng('Instagram')\n",
    "assert not is_eng('爱奇艺PPS -《欢乐颂2》电视剧热播')\n",
    "assert is_eng('Docs To Go™ Free Office Suite')\n",
    "assert is_eng('Instachat 😜')"
   ]
  },
  {
   "cell_type": "code",
   "execution_count": 17,
   "metadata": {},
   "outputs": [
    {
     "name": "stdout",
     "output_type": "stream",
     "text": [
      "9615\n",
      "[['Photo Editor & Candy Camera & Grid & ScrapBook', 'ART_AND_DESIGN', '4.1', '159', '19M', '10,000+', 'Free', '0', 'Everyone', 'Art & Design', 'January 7, 2018', '1.0.0', '4.0.3 and up'], ['U Launcher Lite – FREE Live Cool Themes, Hide Apps', 'ART_AND_DESIGN', '4.7', '87510', '8.7M', '5,000,000+', 'Free', '0', 'Everyone', 'Art & Design', 'August 1, 2018', '1.2.4', '4.0.3 and up'], ['Sketch - Draw & Paint', 'ART_AND_DESIGN', '4.5', '215644', '25M', '50,000,000+', 'Free', '0', 'Teen', 'Art & Design', 'June 8, 2018', 'Varies with device', '4.2 and up']]\n"
     ]
    }
   ],
   "source": [
    "# English Android Apps\n",
    "\n",
    "en_google_apps = [app for app in google_apps[1:] if is_eng(app[0])]\n",
    "print(len(en_google_apps))\n",
    "print(en_google_apps[:3])"
   ]
  },
  {
   "cell_type": "code",
   "execution_count": 18,
   "metadata": {},
   "outputs": [
    {
     "name": "stdout",
     "output_type": "stream",
     "text": [
      "6167\n",
      "[['284882215', 'Facebook', '389879808', 'USD', '0.0', '2974676', '212', '3.5', '3.5', '95.0', '4+', 'Social Networking', '37', '1', '29', '1'], ['389801252', 'Instagram', '113954816', 'USD', '0.0', '2161558', '1289', '4.5', '4.0', '10.23', '12+', 'Photo & Video', '37', '0', '29', '1'], ['529479190', 'Clash of Clans', '116476928', 'USD', '0.0', '2130805', '579', '4.5', '4.5', '9.24.12', '9+', 'Games', '38', '5', '18', '1']]\n"
     ]
    }
   ],
   "source": [
    "# English iOS Apps\n",
    "\n",
    "en_apple_apps = [app for app in apple_apps[1:] if is_eng(app[1])]\n",
    "print(len(en_apple_apps))\n",
    "print(en_apple_apps[:3])"
   ]
  },
  {
   "cell_type": "markdown",
   "metadata": {},
   "source": [
    "### Free Apps Only"
   ]
  },
  {
   "cell_type": "code",
   "execution_count": 19,
   "metadata": {},
   "outputs": [
    {
     "data": {
      "text/plain": [
       "{'$', '0'}"
      ]
     },
     "execution_count": 19,
     "metadata": {},
     "output_type": "execute_result"
    }
   ],
   "source": [
    "# For Android apps 'Price' column has index 7 but it also contains $ symbol\n",
    "# find out if all rows contain the $ prefix\n",
    "set([row[7][0] for row in en_google_apps])"
   ]
  },
  {
   "cell_type": "code",
   "execution_count": 20,
   "metadata": {},
   "outputs": [],
   "source": [
    "def price_to_float(a_strng):\n",
    "    if '$' in a_strng:\n",
    "        return float(a_strng[1:])\n",
    "    else:\n",
    "        return float(a_strng)"
   ]
  },
  {
   "cell_type": "code",
   "execution_count": 21,
   "metadata": {},
   "outputs": [
    {
     "data": {
      "text/plain": [
       "8865"
      ]
     },
     "execution_count": 21,
     "metadata": {},
     "output_type": "execute_result"
    }
   ],
   "source": [
    "# we can simply omit the first simble when converting to float\n",
    "google_apps_clean = [app for app in en_google_apps if price_to_float(app[7]) == 0.0]\n",
    "len(google_apps_clean)"
   ]
  },
  {
   "cell_type": "code",
   "execution_count": 22,
   "metadata": {},
   "outputs": [
    {
     "data": {
      "text/plain": [
       "{'0', '1', '2', '3', '4', '5', '6', '7', '8', '9'}"
      ]
     },
     "execution_count": 22,
     "metadata": {},
     "output_type": "execute_result"
    }
   ],
   "source": [
    "# 'price' column has index 4\n",
    "# check if it has only floats\n",
    "\n",
    "set([row[4][0] for row in en_apple_apps])"
   ]
  },
  {
   "cell_type": "code",
   "execution_count": 23,
   "metadata": {},
   "outputs": [
    {
     "data": {
      "text/plain": [
       "3208"
      ]
     },
     "execution_count": 23,
     "metadata": {},
     "output_type": "execute_result"
    }
   ],
   "source": [
    "apple_apps_clean = [app for app in en_apple_apps if float(app[4]) == 0.0]\n",
    "len(apple_apps_clean)"
   ]
  },
  {
   "cell_type": "code",
   "execution_count": 24,
   "metadata": {},
   "outputs": [],
   "source": [
    "google_app_columns = google_apps[0]\n",
    "apple_app_columns = apple_apps[0]"
   ]
  },
  {
   "cell_type": "markdown",
   "metadata": {},
   "source": [
    "### Data cleaning results\n",
    "\n",
    "* `google_app_columns` - list with android app column names\n",
    "* `google_apps_clean` - list of lists with clean adroid apps data set\n",
    "* `apple_app_columns` - list with iOS app column namex\n",
    "* `apple_apps_clean` - list of lists with clean iOS apps data set"
   ]
  },
  {
   "cell_type": "markdown",
   "metadata": {},
   "source": [
    "## Analysis\n",
    "\n",
    "The main creteria of profitability for the future app is how many users it has. To ensure cost effectiveness of the future app we want to follow this strategy:\n",
    "1. build a minimal Android app\n",
    "2. if the app has a good response from users - develop it further\n",
    "3. if the app if profitable after 6 months - develop iOS version of it\n",
    "\n",
    "According to this strategy what we should learn during our data analysis is:\n",
    "* what are the most common genres for the mobile apps\n",
    "* for the common jenres - what are the most popular apps"
   ]
  },
  {
   "cell_type": "code",
   "execution_count": 25,
   "metadata": {},
   "outputs": [
    {
     "data": {
      "text/plain": [
       "[(0, 'App'),\n",
       " (1, 'Category'),\n",
       " (2, 'Rating'),\n",
       " (3, 'Reviews'),\n",
       " (4, 'Size'),\n",
       " (5, 'Installs'),\n",
       " (6, 'Type'),\n",
       " (7, 'Price'),\n",
       " (8, 'Content Rating'),\n",
       " (9, 'Genres'),\n",
       " (10, 'Last Updated'),\n",
       " (11, 'Current Ver'),\n",
       " (12, 'Android Ver')]"
      ]
     },
     "execution_count": 25,
     "metadata": {},
     "output_type": "execute_result"
    }
   ],
   "source": [
    "[i for i in enumerate(google_app_columns)]"
   ]
  },
  {
   "cell_type": "code",
   "execution_count": 26,
   "metadata": {},
   "outputs": [
    {
     "data": {
      "text/plain": [
       "[(0, 'id'),\n",
       " (1, 'track_name'),\n",
       " (2, 'size_bytes'),\n",
       " (3, 'currency'),\n",
       " (4, 'price'),\n",
       " (5, 'rating_count_tot'),\n",
       " (6, 'rating_count_ver'),\n",
       " (7, 'user_rating'),\n",
       " (8, 'user_rating_ver'),\n",
       " (9, 'ver'),\n",
       " (10, 'cont_rating'),\n",
       " (11, 'prime_genre'),\n",
       " (12, 'sup_devices.num'),\n",
       " (13, 'ipadSc_urls.num'),\n",
       " (14, 'lang.num'),\n",
       " (15, 'vpp_lic')]"
      ]
     },
     "execution_count": 26,
     "metadata": {},
     "output_type": "execute_result"
    }
   ],
   "source": [
    "[i for i in enumerate(apple_app_columns)]"
   ]
  },
  {
   "cell_type": "markdown",
   "metadata": {},
   "source": [
    "To find the most common app genres we will build frequency tables for:\n",
    "* `Genres` and `Category` columns from the google apps data\n",
    "* `prime_genre` from the apple apps data"
   ]
  },
  {
   "cell_type": "code",
   "execution_count": 27,
   "metadata": {},
   "outputs": [],
   "source": [
    "# copied from course sources\n",
    "def display_table(dataset, index):\n",
    "    table = freq_table(dataset, index)\n",
    "    table_display = []\n",
    "    for key in table:\n",
    "        key_val_as_tuple = (table[key], key)\n",
    "        table_display.append(key_val_as_tuple)\n",
    "\n",
    "    table_sorted = sorted(table_display, reverse = True)\n",
    "    for entry in table_sorted:\n",
    "        print(entry[1], ':', entry[0])"
   ]
  },
  {
   "cell_type": "markdown",
   "metadata": {},
   "source": [
    "### Task\n",
    "\n",
    "Create a function named freq_table() that takes in two inputs: dataset (which is expected to be a list of lists) and index (which is expected to be an integer).\n",
    "\n",
    "The function should return the frequency table (as a dictionary) for any column we want. The frequencies should also be expressed as percentages."
   ]
  },
  {
   "cell_type": "code",
   "execution_count": 28,
   "metadata": {},
   "outputs": [],
   "source": [
    "def freq_table(dataset, index):\n",
    "    freq_table = {}\n",
    "    \n",
    "    # count ocurrencies\n",
    "    for row in dataset:\n",
    "        field_value = row[index]\n",
    "        \n",
    "        if field_value in freq_table:\n",
    "            freq_table[field_value] += 1\n",
    "        else:\n",
    "            freq_table[field_value] = 1\n",
    "            \n",
    "    # convert to percentages\n",
    "    total_apps = len(dataset)\n",
    "    for key in freq_table:\n",
    "        freq_table[key] = round((freq_table[key] / total_apps) * 100, 2)\n",
    "    \n",
    "    return freq_table"
   ]
  },
  {
   "cell_type": "code",
   "execution_count": 29,
   "metadata": {},
   "outputs": [],
   "source": [
    "import math\n",
    "\n",
    "def test_freq_table():\n",
    "    mock_dataset = [\n",
    "        ['three_quaters', 'second_column_one_half'],\n",
    "        ['three_quaters', 'and the other column value'],\n",
    "        ['three_quaters', 'another other column value'],\n",
    "        ['one_quater', 'second_column_one_half'],\n",
    "    ]\n",
    "    \n",
    "    assert math.isclose(75, freq_table(mock_dataset, 0)['three_quaters'])\n",
    "    assert math.isclose(25, freq_table(mock_dataset, 0)['one_quater'])\n",
    "    assert freq_table(mock_dataset, 0).get('should_not_exist', None) == None\n",
    "    assert math.isclose(50, freq_table(mock_dataset, 1)['second_column_one_half'])\n",
    "    \n",
    "    \n",
    "test_freq_table()"
   ]
  },
  {
   "cell_type": "code",
   "execution_count": 30,
   "metadata": {},
   "outputs": [
    {
     "name": "stdout",
     "output_type": "stream",
     "text": [
      "Tools : 8.44\n",
      "Entertainment : 6.07\n",
      "Education : 5.36\n",
      "Business : 4.59\n",
      "Lifestyle : 3.9\n",
      "Productivity : 3.89\n",
      "Finance : 3.7\n",
      "Medical : 3.53\n",
      "Sports : 3.45\n",
      "Personalization : 3.33\n",
      "Communication : 3.24\n",
      "Action : 3.09\n",
      "Health & Fitness : 3.08\n",
      "Photography : 2.94\n",
      "News & Magazines : 2.8\n",
      "Social : 2.66\n",
      "Travel & Local : 2.32\n",
      "Shopping : 2.24\n",
      "Books & Reference : 2.17\n",
      "Simulation : 2.04\n",
      "Dating : 1.86\n",
      "Arcade : 1.85\n",
      "Video Players & Editors : 1.77\n",
      "Casual : 1.76\n",
      "Maps & Navigation : 1.41\n",
      "Food & Drink : 1.24\n",
      "Puzzle : 1.13\n",
      "Racing : 0.99\n",
      "Role Playing : 0.94\n",
      "Libraries & Demo : 0.94\n",
      "Auto & Vehicles : 0.92\n",
      "Strategy : 0.91\n",
      "House & Home : 0.81\n",
      "Weather : 0.8\n",
      "Events : 0.71\n",
      "Adventure : 0.68\n",
      "Comics : 0.61\n",
      "Beauty : 0.6\n",
      "Art & Design : 0.6\n",
      "Parenting : 0.5\n",
      "Card : 0.45\n",
      "Trivia : 0.42\n",
      "Casino : 0.42\n",
      "Educational;Education : 0.39\n",
      "Board : 0.38\n",
      "Educational : 0.37\n",
      "Education;Education : 0.34\n",
      "Word : 0.26\n",
      "Casual;Pretend Play : 0.24\n",
      "Music : 0.2\n",
      "Racing;Action & Adventure : 0.17\n",
      "Puzzle;Brain Games : 0.17\n",
      "Entertainment;Music & Video : 0.17\n",
      "Casual;Brain Games : 0.14\n",
      "Casual;Action & Adventure : 0.14\n",
      "Arcade;Action & Adventure : 0.12\n",
      "Action;Action & Adventure : 0.1\n",
      "Educational;Pretend Play : 0.09\n",
      "Simulation;Action & Adventure : 0.08\n",
      "Parenting;Education : 0.08\n",
      "Entertainment;Brain Games : 0.08\n",
      "Board;Brain Games : 0.08\n",
      "Parenting;Music & Video : 0.07\n",
      "Educational;Brain Games : 0.07\n",
      "Casual;Creativity : 0.07\n",
      "Art & Design;Creativity : 0.07\n",
      "Education;Pretend Play : 0.06\n",
      "Role Playing;Pretend Play : 0.05\n",
      "Education;Creativity : 0.05\n",
      "Role Playing;Action & Adventure : 0.03\n",
      "Puzzle;Action & Adventure : 0.03\n",
      "Entertainment;Creativity : 0.03\n",
      "Entertainment;Action & Adventure : 0.03\n",
      "Educational;Creativity : 0.03\n",
      "Educational;Action & Adventure : 0.03\n",
      "Education;Music & Video : 0.03\n",
      "Education;Brain Games : 0.03\n",
      "Education;Action & Adventure : 0.03\n",
      "Adventure;Action & Adventure : 0.03\n",
      "Video Players & Editors;Music & Video : 0.02\n",
      "Sports;Action & Adventure : 0.02\n",
      "Simulation;Pretend Play : 0.02\n",
      "Puzzle;Creativity : 0.02\n",
      "Music;Music & Video : 0.02\n",
      "Entertainment;Pretend Play : 0.02\n",
      "Casual;Education : 0.02\n",
      "Board;Action & Adventure : 0.02\n",
      "Video Players & Editors;Creativity : 0.01\n",
      "Trivia;Education : 0.01\n",
      "Travel & Local;Action & Adventure : 0.01\n",
      "Tools;Education : 0.01\n",
      "Strategy;Education : 0.01\n",
      "Strategy;Creativity : 0.01\n",
      "Strategy;Action & Adventure : 0.01\n",
      "Simulation;Education : 0.01\n",
      "Role Playing;Brain Games : 0.01\n",
      "Racing;Pretend Play : 0.01\n",
      "Puzzle;Education : 0.01\n",
      "Parenting;Brain Games : 0.01\n",
      "Music & Audio;Music & Video : 0.01\n",
      "Lifestyle;Pretend Play : 0.01\n",
      "Lifestyle;Education : 0.01\n",
      "Health & Fitness;Education : 0.01\n",
      "Health & Fitness;Action & Adventure : 0.01\n",
      "Entertainment;Education : 0.01\n",
      "Communication;Creativity : 0.01\n",
      "Comics;Creativity : 0.01\n",
      "Casual;Music & Video : 0.01\n",
      "Card;Action & Adventure : 0.01\n",
      "Books & Reference;Education : 0.01\n",
      "Art & Design;Pretend Play : 0.01\n",
      "Art & Design;Action & Adventure : 0.01\n",
      "Arcade;Pretend Play : 0.01\n",
      "Adventure;Education : 0.01\n"
     ]
    }
   ],
   "source": [
    "# Genres from google apps\n",
    "\n",
    "display_table(google_apps_clean, 9)"
   ]
  },
  {
   "cell_type": "code",
   "execution_count": 31,
   "metadata": {},
   "outputs": [
    {
     "name": "stdout",
     "output_type": "stream",
     "text": [
      "FAMILY : 18.92\n",
      "GAME : 9.7\n",
      "TOOLS : 8.45\n",
      "BUSINESS : 4.59\n",
      "LIFESTYLE : 3.91\n",
      "PRODUCTIVITY : 3.89\n",
      "FINANCE : 3.7\n",
      "MEDICAL : 3.53\n",
      "SPORTS : 3.38\n",
      "PERSONALIZATION : 3.33\n",
      "COMMUNICATION : 3.24\n",
      "HEALTH_AND_FITNESS : 3.08\n",
      "PHOTOGRAPHY : 2.94\n",
      "NEWS_AND_MAGAZINES : 2.8\n",
      "SOCIAL : 2.66\n",
      "TRAVEL_AND_LOCAL : 2.34\n",
      "SHOPPING : 2.24\n",
      "BOOKS_AND_REFERENCE : 2.17\n",
      "DATING : 1.86\n",
      "VIDEO_PLAYERS : 1.79\n",
      "MAPS_AND_NAVIGATION : 1.41\n",
      "FOOD_AND_DRINK : 1.24\n",
      "EDUCATION : 1.16\n",
      "ENTERTAINMENT : 0.96\n",
      "LIBRARIES_AND_DEMO : 0.94\n",
      "AUTO_AND_VEHICLES : 0.92\n",
      "HOUSE_AND_HOME : 0.81\n",
      "WEATHER : 0.8\n",
      "EVENTS : 0.71\n",
      "PARENTING : 0.65\n",
      "ART_AND_DESIGN : 0.64\n",
      "COMICS : 0.62\n",
      "BEAUTY : 0.6\n"
     ]
    }
   ],
   "source": [
    "# Category from goole apps\n",
    "\n",
    "display_table(google_apps_clean, 1)"
   ]
  },
  {
   "cell_type": "code",
   "execution_count": 32,
   "metadata": {},
   "outputs": [
    {
     "name": "stdout",
     "output_type": "stream",
     "text": [
      "Games : 58.2\n",
      "Entertainment : 7.89\n",
      "Photo & Video : 4.99\n",
      "Education : 3.68\n",
      "Social Networking : 3.3\n",
      "Shopping : 2.65\n",
      "Utilities : 2.46\n",
      "Sports : 2.15\n",
      "Music : 2.06\n",
      "Health & Fitness : 2.03\n",
      "Productivity : 1.75\n",
      "Lifestyle : 1.56\n",
      "News : 1.34\n",
      "Travel : 1.25\n",
      "Finance : 1.09\n",
      "Weather : 0.87\n",
      "Food & Drink : 0.81\n",
      "Reference : 0.53\n",
      "Business : 0.53\n",
      "Book : 0.37\n",
      "Navigation : 0.19\n",
      "Medical : 0.19\n",
      "Catalogs : 0.12\n"
     ]
    }
   ],
   "source": [
    "# prime_genre from apple apps\n",
    "\n",
    "display_table(apple_apps_clean, 11)"
   ]
  },
  {
   "cell_type": "markdown",
   "metadata": {},
   "source": [
    "### Apple Apps Analysis\n",
    "\n",
    "From the free apps we see by far the most numerous is in the _Games_ ganre (58%), the closest follow up is _Entertainment_ with a little less than 8% and then _Photo and Video_ with almost 5%. The general feel is that the entertainment / leisure apps are more wide-spread in the app store than productivity / business apps (at least in the free sector). While it indicates that the game apps are very popular there, it also means that competetion should be quite stiff in this erea. An interesting further finding would be to see how many users the apps from these genre have."
   ]
  },
  {
   "cell_type": "markdown",
   "metadata": {},
   "source": [
    "### Google Apps Analysis\n",
    "\n",
    "In the google apps there is no such clear outlier, especially in the `Genres` column (that might be due to the fact that several genres can be specified there, but we treated them as a single unit during the comparison, a better, although not so simple, way to found out true statistics by this column would be to split the strings by the separator (`;`) and somehow weight them. \n",
    "\n",
    "If we look at the `Category` column, where only one category may be specified for an app, it shows that _FAMILY_ is the most numerous one (with 18%), followed by _GAMES_ (9.7%) and _TOOLS_ (~8%) (tools, which are probably not entertainment oriented got quite a large share here in free Google apps). It's not very obvious though what is the _FAMILY_ category, browsing through examples of apps there it seems like games (especially for children, oriented on the child development or entertainment) are very common in it, so with a stretch we can count that category together with games which would sum up to almost 30% - a clear outlier again."
   ]
  },
  {
   "cell_type": "markdown",
   "metadata": {},
   "source": [
    "## Most popular apps\n",
    "\n",
    "So far we have found what genres have more apps. That alone does not tell us how many users these apps have. To find it out we will calculate the average users count for the apps in a given genre. In google apps it is the `Intstalls` column (index 5). In apple apps there is unfortunately no such column, so we will use `rating_count_tot` as a proxy (index 5)."
   ]
  },
  {
   "cell_type": "code",
   "execution_count": 33,
   "metadata": {},
   "outputs": [],
   "source": [
    "# to create frequency tables we can refactor the\n",
    "# previously written code to have freq_table function\n",
    "# to return the count instead of percentages and add another \n",
    "# function for percentages, but Python collections library already \n",
    "# has a class for it\n",
    "\n",
    "from collections import Counter"
   ]
  },
  {
   "cell_type": "markdown",
   "metadata": {},
   "source": [
    "### Most popular Apple apps"
   ]
  },
  {
   "cell_type": "code",
   "execution_count": 42,
   "metadata": {},
   "outputs": [
    {
     "data": {
      "text/plain": [
       "['Social Networking', 'Photo & Video', 'Games']"
      ]
     },
     "execution_count": 42,
     "metadata": {},
     "output_type": "execute_result"
    }
   ],
   "source": [
    "# get counts of apple store `prime_genre` (index 11)\n",
    "apple_genres = [i[11] for i in apple_apps_clean]\n",
    "apple_genres[:3]"
   ]
  },
  {
   "cell_type": "code",
   "execution_count": 43,
   "metadata": {},
   "outputs": [
    {
     "data": {
      "text/plain": [
       "[('Games', 1867), ('Entertainment', 253), ('Photo & Video', 160)]"
      ]
     },
     "execution_count": 43,
     "metadata": {},
     "output_type": "execute_result"
    }
   ],
   "source": [
    "apple_genres_counts = Counter(apple_genres)\n",
    "apple_genres_counts.most_common(3)"
   ]
  },
  {
   "cell_type": "code",
   "execution_count": 48,
   "metadata": {},
   "outputs": [
    {
     "data": {
      "text/plain": [
       "['2974676', '2161558', '2130805']"
      ]
     },
     "execution_count": 48,
     "metadata": {},
     "output_type": "execute_result"
    }
   ],
   "source": [
    "# check the format of `rating_count_tot`\n",
    "[i[5] for i in apple_apps_clean[:3]]"
   ]
  },
  {
   "cell_type": "code",
   "execution_count": 52,
   "metadata": {},
   "outputs": [
    {
     "data": {
      "text/plain": [
       "[('Navigation', 86090),\n",
       " ('Reference', 79350),\n",
       " ('Social Networking', 71548),\n",
       " ('Music', 57327),\n",
       " ('Weather', 52280),\n",
       " ('Book', 46385),\n",
       " ('Food & Drink', 33334),\n",
       " ('Finance', 32367),\n",
       " ('Photo & Video', 28442),\n",
       " ('Travel', 28244)]"
      ]
     },
     "execution_count": 52,
     "metadata": {},
     "output_type": "execute_result"
    }
   ],
   "source": [
    "apple_average_genre_rating_counts = Counter()\n",
    "\n",
    "for genre in apple_apps_genres_counts:\n",
    "    rating_counts_total = 0\n",
    "    \n",
    "    for row in apple_apps_clean:\n",
    "        current_genre = row[11]\n",
    "        if current_genre == genre:\n",
    "            rating_count = float(row[5])\n",
    "            rating_counts_total += rating_count\n",
    "    \n",
    "    apple_average_genre_rating_counts[genre] = round(rating_counts_total / apple_apps_genres_counts[genre])\n",
    "    \n",
    "apple_average_genre_rating_counts.most_common(10)"
   ]
  },
  {
   "cell_type": "markdown",
   "metadata": {},
   "source": [
    "As we can see the most number of ratings i not in the entetainment of section, but rather more in utils. Navigation and Reference having the largest averages for rating count total. Reference apps are about religion, geography and the like data collections. Games do not make it in the first ten even. Among the most popular _Navigation_, _Reference_ and _Social Networking_ genres _Reference_ seem to be a good choice - not so large level of entry (but still need to specialize in a topic and be quite good at providing the information) and still has a lot of user response. "
   ]
  },
  {
   "cell_type": "markdown",
   "metadata": {},
   "source": [
    "### Most popular Google apps"
   ]
  },
  {
   "cell_type": "code",
   "execution_count": 53,
   "metadata": {},
   "outputs": [
    {
     "data": {
      "text/plain": [
       "['10,000+', '5,000,000+', '50,000,000+']"
      ]
     },
     "execution_count": 53,
     "metadata": {},
     "output_type": "execute_result"
    }
   ],
   "source": [
    "# Indexes\n",
    "# Category 1\n",
    "# Installs 5\n",
    "\n",
    "# checkout the format for Installs column\n",
    "[i[5] for i in google_apps_clean[:3]]"
   ]
  },
  {
   "cell_type": "code",
   "execution_count": 54,
   "metadata": {},
   "outputs": [
    {
     "data": {
      "text/plain": [
       "['ART_AND_DESIGN', 'ART_AND_DESIGN', 'ART_AND_DESIGN']"
      ]
     },
     "execution_count": 54,
     "metadata": {},
     "output_type": "execute_result"
    }
   ],
   "source": [
    "google_categories = [i[1] for i in google_apps_clean]\n",
    "google_categories[:3]"
   ]
  },
  {
   "cell_type": "code",
   "execution_count": 57,
   "metadata": {},
   "outputs": [
    {
     "data": {
      "text/plain": [
       "[('FAMILY', 1677),\n",
       " ('GAME', 860),\n",
       " ('TOOLS', 749),\n",
       " ('BUSINESS', 407),\n",
       " ('LIFESTYLE', 347),\n",
       " ('PRODUCTIVITY', 345),\n",
       " ('FINANCE', 328),\n",
       " ('MEDICAL', 313),\n",
       " ('SPORTS', 300),\n",
       " ('PERSONALIZATION', 295)]"
      ]
     },
     "execution_count": 57,
     "metadata": {},
     "output_type": "execute_result"
    }
   ],
   "source": [
    "google_categories_count = Counter(google_categories)\n",
    "google_categories_count.most_common(10)"
   ]
  },
  {
   "cell_type": "code",
   "execution_count": 58,
   "metadata": {},
   "outputs": [
    {
     "data": {
      "text/plain": [
       "[('LIBRARIES_AND_DEMO', 120482),\n",
       " ('ENTERTAINMENT', 117647),\n",
       " ('PHOTOGRAPHY', 38314),\n",
       " ('LIFESTYLE', 28818),\n",
       " ('SOCIAL', 21186),\n",
       " ('EDUCATION', 9709),\n",
       " ('SHOPPING', 5025),\n",
       " ('BEAUTY', 1887),\n",
       " ('WEATHER', 1408),\n",
       " ('DATING', 606)]"
      ]
     },
     "execution_count": 58,
     "metadata": {},
     "output_type": "execute_result"
    }
   ],
   "source": [
    "google_average_installs = Counter()\n",
    "\n",
    "for category in google_categories:\n",
    "    total_installs = 0\n",
    "    \n",
    "    for row in google_apps_clean:\n",
    "        current_category = row[1]\n",
    "        if current_category == category:\n",
    "            total_installs = float(row[5].replace(',', '').replace('+', ''))\n",
    "    \n",
    "    google_average_installs[category] = round(total_installs / google_categories_count[category])\n",
    "    \n",
    "google_average_installs.most_common(10)"
   ]
  },
  {
   "cell_type": "markdown",
   "metadata": {},
   "source": [
    "The most popular category turned out to be _LIBRARIES_AND_DEMO_ in which parts of apps exist (rather than the whole apps), because we are going to build a free app this category does not interest us. The next clear winner is the _ENTERTAINMENT_ which ssems to be very broad, but we can combine our knowledge of what we've learned while analysing apple apps data and find the first popular (and yet relatively simple to win audience) apple app in the entertainment category, which is __music__."
   ]
  }
 ],
 "metadata": {
  "kernelspec": {
   "display_name": "Python 3",
   "language": "python",
   "name": "python3"
  },
  "language_info": {
   "codemirror_mode": {
    "name": "ipython",
    "version": 3
   },
   "file_extension": ".py",
   "mimetype": "text/x-python",
   "name": "python",
   "nbconvert_exporter": "python",
   "pygments_lexer": "ipython3",
   "version": "3.8.6"
  }
 },
 "nbformat": 4,
 "nbformat_minor": 4
}
