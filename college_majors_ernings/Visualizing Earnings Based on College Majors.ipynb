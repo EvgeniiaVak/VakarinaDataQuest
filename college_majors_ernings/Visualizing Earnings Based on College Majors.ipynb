{
 "cells": [
  {
   "cell_type": "markdown",
   "metadata": {},
   "source": [
    "# Earnings Based on College Majors\n",
    "\n",
    "This is an excercise from [dataquest.io Exploratory Data Visualization course](https://www.dataquest.io/course/exploratory-data-visualization). The aim is to practice using matplotlib and pandas for visualizing data in jupyter notebook and to observe any correlations between college majors and median earnings.\n",
    "\n",
    "The data is downloaded from [a fivethirtyeight repo - college-majors](https://github.com/fivethirtyeight/data/tree/master/college-majors)"
   ]
  },
  {
   "cell_type": "code",
   "execution_count": 2,
   "metadata": {},
   "outputs": [],
   "source": [
    "import pandas as pd\n",
    "import matplotlib.pyplot as plt\n",
    "\n",
    "%matplotlib inline"
   ]
  },
  {
   "cell_type": "code",
   "execution_count": 3,
   "metadata": {},
   "outputs": [
    {
     "data": {
      "text/html": [
       "<div>\n",
       "<style scoped>\n",
       "    .dataframe tbody tr th:only-of-type {\n",
       "        vertical-align: middle;\n",
       "    }\n",
       "\n",
       "    .dataframe tbody tr th {\n",
       "        vertical-align: top;\n",
       "    }\n",
       "\n",
       "    .dataframe thead th {\n",
       "        text-align: right;\n",
       "    }\n",
       "</style>\n",
       "<table border=\"1\" class=\"dataframe\">\n",
       "  <thead>\n",
       "    <tr style=\"text-align: right;\">\n",
       "      <th></th>\n",
       "      <th>Rank</th>\n",
       "      <th>Major_code</th>\n",
       "      <th>Major</th>\n",
       "      <th>Total</th>\n",
       "      <th>Men</th>\n",
       "      <th>Women</th>\n",
       "      <th>Major_category</th>\n",
       "      <th>ShareWomen</th>\n",
       "      <th>Sample_size</th>\n",
       "      <th>Employed</th>\n",
       "      <th>...</th>\n",
       "      <th>Part_time</th>\n",
       "      <th>Full_time_year_round</th>\n",
       "      <th>Unemployed</th>\n",
       "      <th>Unemployment_rate</th>\n",
       "      <th>Median</th>\n",
       "      <th>P25th</th>\n",
       "      <th>P75th</th>\n",
       "      <th>College_jobs</th>\n",
       "      <th>Non_college_jobs</th>\n",
       "      <th>Low_wage_jobs</th>\n",
       "    </tr>\n",
       "  </thead>\n",
       "  <tbody>\n",
       "    <tr>\n",
       "      <th>0</th>\n",
       "      <td>1</td>\n",
       "      <td>2419</td>\n",
       "      <td>PETROLEUM ENGINEERING</td>\n",
       "      <td>2339.0</td>\n",
       "      <td>2057.0</td>\n",
       "      <td>282.0</td>\n",
       "      <td>Engineering</td>\n",
       "      <td>0.120564</td>\n",
       "      <td>36</td>\n",
       "      <td>1976</td>\n",
       "      <td>...</td>\n",
       "      <td>270</td>\n",
       "      <td>1207</td>\n",
       "      <td>37</td>\n",
       "      <td>0.018381</td>\n",
       "      <td>110000</td>\n",
       "      <td>95000</td>\n",
       "      <td>125000</td>\n",
       "      <td>1534</td>\n",
       "      <td>364</td>\n",
       "      <td>193</td>\n",
       "    </tr>\n",
       "    <tr>\n",
       "      <th>1</th>\n",
       "      <td>2</td>\n",
       "      <td>2416</td>\n",
       "      <td>MINING AND MINERAL ENGINEERING</td>\n",
       "      <td>756.0</td>\n",
       "      <td>679.0</td>\n",
       "      <td>77.0</td>\n",
       "      <td>Engineering</td>\n",
       "      <td>0.101852</td>\n",
       "      <td>7</td>\n",
       "      <td>640</td>\n",
       "      <td>...</td>\n",
       "      <td>170</td>\n",
       "      <td>388</td>\n",
       "      <td>85</td>\n",
       "      <td>0.117241</td>\n",
       "      <td>75000</td>\n",
       "      <td>55000</td>\n",
       "      <td>90000</td>\n",
       "      <td>350</td>\n",
       "      <td>257</td>\n",
       "      <td>50</td>\n",
       "    </tr>\n",
       "    <tr>\n",
       "      <th>2</th>\n",
       "      <td>3</td>\n",
       "      <td>2415</td>\n",
       "      <td>METALLURGICAL ENGINEERING</td>\n",
       "      <td>856.0</td>\n",
       "      <td>725.0</td>\n",
       "      <td>131.0</td>\n",
       "      <td>Engineering</td>\n",
       "      <td>0.153037</td>\n",
       "      <td>3</td>\n",
       "      <td>648</td>\n",
       "      <td>...</td>\n",
       "      <td>133</td>\n",
       "      <td>340</td>\n",
       "      <td>16</td>\n",
       "      <td>0.024096</td>\n",
       "      <td>73000</td>\n",
       "      <td>50000</td>\n",
       "      <td>105000</td>\n",
       "      <td>456</td>\n",
       "      <td>176</td>\n",
       "      <td>0</td>\n",
       "    </tr>\n",
       "    <tr>\n",
       "      <th>3</th>\n",
       "      <td>4</td>\n",
       "      <td>2417</td>\n",
       "      <td>NAVAL ARCHITECTURE AND MARINE ENGINEERING</td>\n",
       "      <td>1258.0</td>\n",
       "      <td>1123.0</td>\n",
       "      <td>135.0</td>\n",
       "      <td>Engineering</td>\n",
       "      <td>0.107313</td>\n",
       "      <td>16</td>\n",
       "      <td>758</td>\n",
       "      <td>...</td>\n",
       "      <td>150</td>\n",
       "      <td>692</td>\n",
       "      <td>40</td>\n",
       "      <td>0.050125</td>\n",
       "      <td>70000</td>\n",
       "      <td>43000</td>\n",
       "      <td>80000</td>\n",
       "      <td>529</td>\n",
       "      <td>102</td>\n",
       "      <td>0</td>\n",
       "    </tr>\n",
       "    <tr>\n",
       "      <th>4</th>\n",
       "      <td>5</td>\n",
       "      <td>2405</td>\n",
       "      <td>CHEMICAL ENGINEERING</td>\n",
       "      <td>32260.0</td>\n",
       "      <td>21239.0</td>\n",
       "      <td>11021.0</td>\n",
       "      <td>Engineering</td>\n",
       "      <td>0.341631</td>\n",
       "      <td>289</td>\n",
       "      <td>25694</td>\n",
       "      <td>...</td>\n",
       "      <td>5180</td>\n",
       "      <td>16697</td>\n",
       "      <td>1672</td>\n",
       "      <td>0.061098</td>\n",
       "      <td>65000</td>\n",
       "      <td>50000</td>\n",
       "      <td>75000</td>\n",
       "      <td>18314</td>\n",
       "      <td>4440</td>\n",
       "      <td>972</td>\n",
       "    </tr>\n",
       "  </tbody>\n",
       "</table>\n",
       "<p>5 rows × 21 columns</p>\n",
       "</div>"
      ],
      "text/plain": [
       "   Rank  Major_code                                      Major    Total  \\\n",
       "0     1        2419                      PETROLEUM ENGINEERING   2339.0   \n",
       "1     2        2416             MINING AND MINERAL ENGINEERING    756.0   \n",
       "2     3        2415                  METALLURGICAL ENGINEERING    856.0   \n",
       "3     4        2417  NAVAL ARCHITECTURE AND MARINE ENGINEERING   1258.0   \n",
       "4     5        2405                       CHEMICAL ENGINEERING  32260.0   \n",
       "\n",
       "       Men    Women Major_category  ShareWomen  Sample_size  Employed  ...  \\\n",
       "0   2057.0    282.0    Engineering    0.120564           36      1976  ...   \n",
       "1    679.0     77.0    Engineering    0.101852            7       640  ...   \n",
       "2    725.0    131.0    Engineering    0.153037            3       648  ...   \n",
       "3   1123.0    135.0    Engineering    0.107313           16       758  ...   \n",
       "4  21239.0  11021.0    Engineering    0.341631          289     25694  ...   \n",
       "\n",
       "   Part_time  Full_time_year_round  Unemployed  Unemployment_rate  Median  \\\n",
       "0        270                  1207          37           0.018381  110000   \n",
       "1        170                   388          85           0.117241   75000   \n",
       "2        133                   340          16           0.024096   73000   \n",
       "3        150                   692          40           0.050125   70000   \n",
       "4       5180                 16697        1672           0.061098   65000   \n",
       "\n",
       "   P25th   P75th  College_jobs  Non_college_jobs  Low_wage_jobs  \n",
       "0  95000  125000          1534               364            193  \n",
       "1  55000   90000           350               257             50  \n",
       "2  50000  105000           456               176              0  \n",
       "3  43000   80000           529               102              0  \n",
       "4  50000   75000         18314              4440            972  \n",
       "\n",
       "[5 rows x 21 columns]"
      ]
     },
     "execution_count": 3,
     "metadata": {},
     "output_type": "execute_result"
    }
   ],
   "source": [
    "recent_grads = pd.read_csv('recent-grads.csv')\n",
    "recent_grads.head()"
   ]
  },
  {
   "cell_type": "code",
   "execution_count": 9,
   "metadata": {},
   "outputs": [],
   "source": [
    "# drop rows with null values\n",
    "recent_grads.dropna(inplace=True)\n",
    "recent_grads.reset_index(inplace=True)"
   ]
  },
  {
   "cell_type": "markdown",
   "metadata": {},
   "source": [
    "## Do students in more popular majors make more money?\n",
    "\n",
    "To answer this question let's create a scatter plot with total number of people with the major (`Total`) on x axis and the median salary (`Median`) on the y axis. If the answer to the quesion is 'yes' we should see at least a slight positive correlation in the chart."
   ]
  },
  {
   "cell_type": "code",
   "execution_count": 25,
   "metadata": {},
   "outputs": [],
   "source": [
    "# only compare majors with large sample size \n",
    "large_sample_majors = recent_grads[recent_grads['Sample_size'] > 100]"
   ]
  },
  {
   "cell_type": "code",
   "execution_count": 31,
   "metadata": {},
   "outputs": [
    {
     "data": {
      "text/plain": [
       "<AxesSubplot:title={'center':'Median salary over total major graduates'}, xlabel='Total', ylabel='Median'>"
      ]
     },
     "execution_count": 31,
     "metadata": {},
     "output_type": "execute_result"
    },
    {
     "data": {
      "image/png": "[encoded data removed]",
      "text/plain": [
       "<Figure size 432x288 with 1 Axes>"
      ]
     },
     "metadata": {
      "needs_background": "light"
     },
     "output_type": "display_data"
    }
   ],
   "source": [
    "large_sample_majors.plot(\n",
    "    x='Total',\n",
    "    y='Median',\n",
    "    title='Median salary over total major graduates',\n",
    "    kind='scatter'\n",
    ")"
   ]
  },
  {
   "cell_type": "markdown",
   "metadata": {},
   "source": [
    "There is no correlation and definitely not a positive one, so the answer is **'no'**."
   ]
  },
  {
   "cell_type": "markdown",
   "metadata": {},
   "source": [
    "## Do students that majored in subjects that were majority female make more money?\n",
    "\n",
    "To visualize the answer to this question we can compare the histograms of earnings of predominantly male and predominantly female major graduates."
   ]
  },
  {
   "cell_type": "code",
   "execution_count": 37,
   "metadata": {},
   "outputs": [],
   "source": [
    "female_majors = large_sample_majors[large_sample_majors['ShareWomen'] > 0.5]\n",
    "male_majors = large_sample_majors[large_sample_majors['ShareWomen'] < 0.5]"
   ]
  },
  {
   "cell_type": "code",
   "execution_count": 45,
   "metadata": {},
   "outputs": [
    {
     "data": {
      "text/plain": [
       "<AxesSubplot:ylabel='Frequency'>"
      ]
     },
     "execution_count": 45,
     "metadata": {},
     "output_type": "execute_result"
    },
    {
     "data": {
      "image/png": "[encoded data removed]",
      "text/plain": [
       "<Figure size 432x288 with 1 Axes>"
      ]
     },
     "metadata": {
      "needs_background": "light"
     },
     "output_type": "display_data"
    }
   ],
   "source": [
    "female_majors.plot(y='Median', kind='hist', bins=40, range=(10000,75000))"
   ]
  },
  {
   "cell_type": "code",
   "execution_count": 46,
   "metadata": {},
   "outputs": [
    {
     "data": {
      "text/plain": [
       "<AxesSubplot:ylabel='Frequency'>"
      ]
     },
     "execution_count": 46,
     "metadata": {},
     "output_type": "execute_result"
    },
    {
     "data": {
      "image/png": "[encoded data removed]",
      "text/plain": [
       "<Figure size 432x288 with 1 Axes>"
      ]
     },
     "metadata": {
      "needs_background": "light"
     },
     "output_type": "display_data"
    }
   ],
   "source": [
    "male_majors.plot(y='Median', kind='hist', bins=40, range=(10000,75000))"
   ]
  },
  {
   "cell_type": "markdown",
   "metadata": {},
   "source": [
    "We can see that t"
   ]
  }
 ],
 "metadata": {
  "kernelspec": {
   "display_name": "Python 3",
   "language": "python",
   "name": "python3"
  },
  "language_info": {
   "codemirror_mode": {
    "name": "ipython",
    "version": 3
   },
   "file_extension": ".py",
   "mimetype": "text/x-python",
   "name": "python",
   "nbconvert_exporter": "python",
   "pygments_lexer": "ipython3",
   "version": "3.8.6"
  }
 },
 "nbformat": 4,
 "nbformat_minor": 4
}
